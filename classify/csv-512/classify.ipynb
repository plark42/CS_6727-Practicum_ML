{
 "cells": [
  {
   "cell_type": "code",
   "execution_count": 1,
   "id": "46d9093c",
   "metadata": {},
   "outputs": [],
   "source": [
    "import warnings\n",
    "warnings.simplefilter(action='ignore', category=Warning)\n",
    "import pandas as pd\n",
    "import numpy as np\n",
    "import matplotlib.pyplot as plt\n",
    "from sklearn.tree import DecisionTreeClassifier as Tree\n",
    "from sklearn.ensemble import RandomForestClassifier\n",
    "from sklearn.svm import SVC\n",
    "from sklearn.naive_bayes import GaussianNB\n",
    "from sklearn.neighbors import KNeighborsClassifier\n",
    "from sklearn.neural_network import MLPClassifier\n",
    "from sklearn.discriminant_analysis import QuadraticDiscriminantAnalysis\n",
    "from sklearn.model_selection import cross_val_predict\n",
    "from sklearn.metrics import accuracy_score, recall_score, precision_score\n",
    "from sklearn.model_selection import StratifiedKFold"
   ]
  },
  {
   "cell_type": "code",
   "execution_count": 2,
   "id": "f9c34eb2",
   "metadata": {},
   "outputs": [],
   "source": [
    "def classify(model, X, y):\n",
    "    skf = StratifiedKFold()\n",
    "    yp = cross_val_predict(model, X, y, cv=skf)\n",
    "    acc = accuracy_score(y,yp)*100\n",
    "    pre = precision_score(y, yp)*100\n",
    "    rec = recall_score(y,yp)*100\n",
    "    return (acc, pre, rec)"
   ]
  },
  {
   "cell_type": "code",
   "execution_count": 3,
   "id": "aa7bac79",
   "metadata": {},
   "outputs": [],
   "source": [
    "def run(model, df):\n",
    "    results = []\n",
    "    for filetype in np.unique(df['filetype']):\n",
    "        cond1 = df['filetype'] == filetype\n",
    "        X = df[cond1].drop(['class', 'filetype', 'algorithm'], axis=1)\n",
    "        y = df[cond1]['class']\n",
    "        acc, pre, rec = classify(model, X, y)\n",
    "        results.append([filetype, acc, pre, rec])\n",
    "    return results"
   ]
  },
  {
   "cell_type": "code",
   "execution_count": 4,
   "id": "c2adacba",
   "metadata": {},
   "outputs": [],
   "source": [
    "def plot_results(results, model_name):\n",
    "    results = pd.DataFrame(results, columns=['filetype', 'accuracy', 'precision', 'recall'])\n",
    "    results.plot.bar(x='filetype')\n",
    "    plt.legend(loc='lower right')\n",
    "    plt.ylabel('percentage (%)')\n",
    "    plt.title('classification results (%s)' % model_name);"
   ]
  },
  {
   "cell_type": "code",
   "execution_count": 5,
   "id": "295273c5",
   "metadata": {},
   "outputs": [],
   "source": [
    "df = pd.read_csv('features.csv')\n",
    "pd.set_option('mode.use_inf_as_na', True)\n",
    "df.fillna(0, inplace=True)"
   ]
  },
  {
   "cell_type": "code",
   "execution_count": 6,
   "id": "7ae912cc",
   "metadata": {},
   "outputs": [
    {
     "data": {
      "image/png": "[encoded data removed]",
      "text/plain": [
       "<Figure size 432x288 with 1 Axes>"
      ]
     },
     "metadata": {
      "needs_background": "light"
     },
     "output_type": "display_data"
    }
   ],
   "source": [
    "plot_results(run(Tree(), df), 'tree')"
   ]
  },
  {
   "cell_type": "code",
   "execution_count": null,
   "id": "6cea2924",
   "metadata": {},
   "outputs": [],
   "source": [
    "plot_results(run(RandomForestClassifier(), df), 'random forest')"
   ]
  },
  {
   "cell_type": "code",
   "execution_count": null,
   "id": "785fc7bc",
   "metadata": {},
   "outputs": [],
   "source": [
    "plot_results(run(SVC(gamma='auto'), df), 'SVM')"
   ]
  },
  {
   "cell_type": "code",
   "execution_count": null,
   "id": "b1f42458",
   "metadata": {},
   "outputs": [],
   "source": [
    "plot_results(run(GaussianNB(), df), 'Bayes')"
   ]
  },
  {
   "cell_type": "code",
   "execution_count": null,
   "id": "a6c7b0f5",
   "metadata": {},
   "outputs": [],
   "source": [
    "plot_results(run(KNeighborsClassifier(), df), 'KNN')"
   ]
  },
  {
   "cell_type": "code",
   "execution_count": null,
   "id": "230bc73c",
   "metadata": {},
   "outputs": [],
   "source": [
    "# copy the data\n",
    "norm = df.copy()\n",
    "  \n",
    "# apply normalization techniques\n",
    "for column in ['kurtosis','entropy','stdev','chi','autocorr','mean']:\n",
    "    norm[column] = norm[column]  / norm[column].abs().max()\n",
    "    \n",
    "plot_results(run(MLPClassifier(), norm), 'MLP')"
   ]
  },
  {
   "cell_type": "code",
   "execution_count": null,
   "id": "46ed25ee",
   "metadata": {},
   "outputs": [],
   "source": [
    "plot_results(run(QuadraticDiscriminantAnalysis(), df), 'QDA')"
   ]
  },
  {
   "cell_type": "code",
   "execution_count": null,
   "id": "695c86eb",
   "metadata": {},
   "outputs": [],
   "source": [
    "X = df.drop(['class', 'algorithm', 'filetype'], axis=1)\n",
    "y = df['class']\n",
    "skf = StratifiedKFold()\n",
    "yp = cross_val_predict(RandomForestClassifier(), X, y, cv=skf)\n",
    "acc = accuracy_score(y,yp)*100\n",
    "pre = precision_score(y, yp)*100\n",
    "rec = recall_score(y,yp)*100\n",
    "print(acc, pre, rec)"
   ]
  },
  {
   "cell_type": "code",
   "execution_count": null,
   "id": "d415fdc9",
   "metadata": {},
   "outputs": [],
   "source": [
    "results = []\n",
    "for filetype in np.unique(df['filetype']):\n",
    "    cond1 = df['filetype'] == filetype\n",
    "    acc = accuracy_score(y[cond1],yp[cond1])*100\n",
    "    pre = precision_score(y[cond1],yp[cond1])*100\n",
    "    rec = recall_score(y[cond1],yp[cond1])*100\n",
    "    print(filetype, acc, pre, rec)\n",
    "    results.append([filetype, acc, pre, rec])\n",
    "    \n",
    "results = pd.DataFrame(results, columns=['filetype', 'accuracy', 'precision', 'recall'])\n",
    "results.plot.bar(x='filetype')\n",
    "plt.legend(loc='lower right')\n",
    "plt.ylabel('percentage (%)')\n",
    "plt.title('classification results (overall)');"
   ]
  }
 ],
 "metadata": {
  "kernelspec": {
   "display_name": "Python 3 (ipykernel)",
   "language": "python",
   "name": "python3"
  },
  "language_info": {
   "codemirror_mode": {
    "name": "ipython",
    "version": 3
   },
   "file_extension": ".py",
   "mimetype": "text/x-python",
   "name": "python",
   "nbconvert_exporter": "python",
   "pygments_lexer": "ipython3",
   "version": "3.9.7"
  }
 },
 "nbformat": 4,
 "nbformat_minor": 5
}
