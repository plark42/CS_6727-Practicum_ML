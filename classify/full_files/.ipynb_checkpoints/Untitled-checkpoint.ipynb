{
 "cells": [
  {
   "cell_type": "code",
   "execution_count": 1,
   "id": "8779ae77",
   "metadata": {},
   "outputs": [],
   "source": [
    "import warnings\n",
    "warnings.simplefilter(action='ignore', category=Warning)\n",
    "\n",
    "import pandas as pd\n",
    "import numpy as np\n",
    "import matplotlib.pyplot as plt\n",
    "from sklearn.preprocessing import LabelEncoder"
   ]
  },
  {
   "cell_type": "code",
   "execution_count": 3,
   "id": "f41372f3",
   "metadata": {},
   "outputs": [],
   "source": [
    "df = pd.read_csv('features.csv')\n",
    "pd.set_option('mode.use_inf_as_na', True)\n",
    "df.fillna(0, inplace=True)\n",
    "df['mime'] = LabelEncoder().fit_transform(df['mime'])\n",
    "pln = df[(df['class'] == 0) & (df['algorithm'] == 'aes') & (df['filetype'] == 'txt')]\n",
    "enc = df[df['class'] == 1 & (df['filetype']=='txt')]"
   ]
  },
  {
   "cell_type": "code",
   "execution_count": null,
   "id": "d4a40421",
   "metadata": {},
   "outputs": [],
   "source": []
  }
 ],
 "metadata": {
  "kernelspec": {
   "display_name": "Python 3 (ipykernel)",
   "language": "python",
   "name": "python3"
  },
  "language_info": {
   "codemirror_mode": {
    "name": "ipython",
    "version": 3
   },
   "file_extension": ".py",
   "mimetype": "text/x-python",
   "name": "python",
   "nbconvert_exporter": "python",
   "pygments_lexer": "ipython3",
   "version": "3.9.7"
  }
 },
 "nbformat": 4,
 "nbformat_minor": 5
}
